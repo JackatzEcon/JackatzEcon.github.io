{
 "cells": [
  {
   "cell_type": "code",
   "execution_count": 3,
   "id": "f8df1b7c",
   "metadata": {},
   "outputs": [],
   "source": [
    "import pandas as pd\n",
    "spotify = pd.read_csv('https://bcdanl.github.io/data/spotify_all.csv')"
   ]
  },
  {
   "cell_type": "markdown",
   "id": "1c18594b",
   "metadata": {},
   "source": [
    "# The Fab Four: An Exploration of the Beatles Solo Careers Through Data\n",
    "\n",
    "The Beatles were a revolutionary Rock n' Roll group that were active throughout the 1960's and 70's. In their early years they brought together blues and rock n' roll style with the modern form of the four man rock band. Over the groups career they each developed their own styles and sounds as musicians which then influenced there individual solo careers. Although each of them are talented in their own way they all received varying levels of commercial and critical success. This data analysis takes a look at how each members popularity stands today among modern listeners.  \n"
   ]
  },
  {
   "cell_type": "markdown",
   "id": "94fedc79",
   "metadata": {},
   "source": [
    "## The Data\n",
    "\n",
    "The code below uses filtering methods and the isin function to narrow down the data set to just the individual music of each artist"
   ]
  },
  {
   "cell_type": "code",
   "execution_count": 86,
   "id": "5662dcc0",
   "metadata": {},
   "outputs": [
    {
     "data": {
      "text/plain": [
       "pid              59\n",
       "playlist_name    58\n",
       "pos              75\n",
       "artist_name       4\n",
       "track_name       50\n",
       "duration_ms      50\n",
       "album_name       31\n",
       "dtype: int64"
      ]
     },
     "execution_count": 86,
     "metadata": {},
     "output_type": "execute_result"
    }
   ],
   "source": [
    "Artists = [\"Paul McCartney\", \"John Lennon\" , \"Ringo Starr\", \"George Harrison\" ]\n",
    "\n",
    "Beatles = spotify[\"artist_name\"].isin(Artists)\n",
    "\n",
    "Individual_Beatles = spotify[Beatles]\n",
    "\n",
    "Individual_Beatles.nunique()\n",
    "\n",
    "\n",
    "\n",
    "\n"
   ]
  },
  {
   "cell_type": "markdown",
   "id": "dbdd32dd",
   "metadata": {},
   "source": [
    "## Data manipulation and Approach\n",
    "\n",
    "My technique involves filtering the data for each Beatle to then find statistics on, amount of minutes each is listened to, and their individual representation within the dataset. The metric I will be using to determine popularity is amount of playlists they appear in and how many songs they have in the entire dataset.  \n"
   ]
  },
  {
   "cell_type": "markdown",
   "id": "0c0ee5ed",
   "metadata": {},
   "source": [
    "### Paul \n",
    "\n",
    "Paul was the bassist for the Beatles and one of the main singers and songwriters. He is known for his signature lefty bass playing. "
   ]
  },
  {
   "cell_type": "code",
   "execution_count": 105,
   "id": "8b9456bf",
   "metadata": {},
   "outputs": [
    {
     "data": {
      "text/plain": [
       "pid              44\n",
       "playlist_name    44\n",
       "pos              44\n",
       "track_name       44\n",
       "duration_ms      44\n",
       "album_name       44\n",
       "dtype: int64"
      ]
     },
     "execution_count": 105,
     "metadata": {},
     "output_type": "execute_result"
    }
   ],
   "source": [
    "Paul = (\n",
    "    Individual_Beatles\n",
    "        .set_index(\"artist_name\")\n",
    "        .loc[\"Paul McCartney\"]\n",
    ")\n",
    "\n",
    "Paul.count()"
   ]
  },
  {
   "cell_type": "code",
   "execution_count": 101,
   "id": "78e66236",
   "metadata": {},
   "outputs": [
    {
     "data": {
      "text/plain": [
       "30"
      ]
     },
     "execution_count": 101,
     "metadata": {},
     "output_type": "execute_result"
    }
   ],
   "source": [
    "Paul[\"pid\"].nunique()"
   ]
  },
  {
   "cell_type": "markdown",
   "id": "fadcfc93",
   "metadata": {},
   "source": [
    "### George\n",
    "George was the lead Guitarist of the group and was known for his simple yet elegant solos and fills. "
   ]
  },
  {
   "cell_type": "code",
   "execution_count": 102,
   "id": "8166ba6c",
   "metadata": {},
   "outputs": [
    {
     "data": {
      "text/plain": [
       "pid              27\n",
       "playlist_name    27\n",
       "pos              27\n",
       "track_name       27\n",
       "duration_ms      27\n",
       "album_name       27\n",
       "dtype: int64"
      ]
     },
     "execution_count": 102,
     "metadata": {},
     "output_type": "execute_result"
    }
   ],
   "source": [
    "George = (\n",
    "    Individual_Beatles\n",
    "        .set_index(\"artist_name\")\n",
    "        .loc[\"George Harrison\"]\n",
    ")\n",
    "\n",
    "George.count()"
   ]
  },
  {
   "cell_type": "code",
   "execution_count": 104,
   "id": "090f73a8",
   "metadata": {},
   "outputs": [
    {
     "data": {
      "text/plain": [
       "18"
      ]
     },
     "execution_count": 104,
     "metadata": {},
     "output_type": "execute_result"
    }
   ],
   "source": [
    "George[\"pid\"].nunique()"
   ]
  },
  {
   "cell_type": "markdown",
   "id": "3550078c",
   "metadata": {},
   "source": [
    "### Ringo \n",
    "\n",
    "Ringo was the groups drummer. He was known for his quirky song writing and goofy personality. "
   ]
  },
  {
   "cell_type": "code",
   "execution_count": 109,
   "id": "38dfecfd",
   "metadata": {},
   "outputs": [
    {
     "data": {
      "text/plain": [
       "pid              5\n",
       "playlist_name    5\n",
       "pos              5\n",
       "track_name       5\n",
       "duration_ms      5\n",
       "album_name       5\n",
       "dtype: int64"
      ]
     },
     "execution_count": 109,
     "metadata": {},
     "output_type": "execute_result"
    }
   ],
   "source": [
    "Ringo = (\n",
    "    Individual_Beatles\n",
    "        .set_index(\"artist_name\")\n",
    "        .loc[\"Ringo Starr\"]\n",
    ")\n",
    "\n",
    "Ringo.count()"
   ]
  },
  {
   "cell_type": "code",
   "execution_count": 107,
   "id": "c7240ff9",
   "metadata": {},
   "outputs": [
    {
     "data": {
      "text/plain": [
       "2"
      ]
     },
     "execution_count": 107,
     "metadata": {},
     "output_type": "execute_result"
    }
   ],
   "source": [
    "Ringo[\"pid\"].nunique()"
   ]
  },
  {
   "cell_type": "markdown",
   "id": "b54e7c41",
   "metadata": {},
   "source": [
    "### John\n",
    "\n",
    "John was the rythm guitarist and wrote many of the groups most popular songs. "
   ]
  },
  {
   "cell_type": "code",
   "execution_count": 110,
   "id": "c2469d83",
   "metadata": {},
   "outputs": [
    {
     "data": {
      "text/plain": [
       "pid              32\n",
       "playlist_name    32\n",
       "pos              32\n",
       "track_name       32\n",
       "duration_ms      32\n",
       "album_name       32\n",
       "dtype: int64"
      ]
     },
     "execution_count": 110,
     "metadata": {},
     "output_type": "execute_result"
    }
   ],
   "source": [
    "John = (\n",
    "    Individual_Beatles\n",
    "        .set_index(\"artist_name\")\n",
    "        .loc[\"John Lennon\"]\n",
    ")\n",
    "\n",
    "John.count()"
   ]
  },
  {
   "cell_type": "code",
   "execution_count": 111,
   "id": "8786419a",
   "metadata": {},
   "outputs": [
    {
     "data": {
      "text/plain": [
       "26"
      ]
     },
     "execution_count": 111,
     "metadata": {},
     "output_type": "execute_result"
    }
   ],
   "source": [
    "John[\"pid\"].nunique()"
   ]
  }
 ],
 "metadata": {
  "kernelspec": {
   "display_name": "Python 3 (ipykernel)",
   "language": "python",
   "name": "python3"
  },
  "language_info": {
   "codemirror_mode": {
    "name": "ipython",
    "version": 3
   },
   "file_extension": ".py",
   "mimetype": "text/x-python",
   "name": "python",
   "nbconvert_exporter": "python",
   "pygments_lexer": "ipython3",
   "version": "3.11.5"
  }
 },
 "nbformat": 4,
 "nbformat_minor": 5
}
