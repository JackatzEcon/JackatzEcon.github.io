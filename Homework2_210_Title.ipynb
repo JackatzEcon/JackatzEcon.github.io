{
 "cells": [
  {
   "cell_type": "markdown",
   "id": "785310bd",
   "metadata": {},
   "source": [
    "#---\n",
    "#title: Homework 2\n",
    "#author: Jack Katz\n",
    "#--- "
   ]
  },
  {
   "cell_type": "code",
   "execution_count": 3,
   "id": "b4e45baf",
   "metadata": {},
   "outputs": [],
   "source": [
    "import pandas as pd\n",
    "spotify = pd.read_csv('https://bcdanl.github.io/data/spotify_all.csv')"
   ]
  },
  {
   "cell_type": "markdown",
   "id": "79f80d74",
   "metadata": {},
   "source": [
    "# The Fab Four: An Exploration of the Beatles Solo Careers Through Data\n",
    "\n",
    "The Beatles were a revolutionary Rock n' Roll group that were active throughout the 1960's and 70's. In their early years they brought together blues and rock n' roll style with the modern form of the four man rock band. Over the groups career they each developed their own styles and sounds as musicians which then influenced there individual solo careers. Although each of them are talented in their own way they all received varying levels of commercial and critical success. This data analysis takes a look at how each members popularity stands today among modern listeners.  \n"
   ]
  },
  {
   "cell_type": "markdown",
   "id": "d2ca2816",
   "metadata": {},
   "source": [
    "## The Data\n",
    "\n",
    "The code below uses filtering methods and the isin function to narrow down the data set to just the individual music of each artist"
   ]
  },
  {
   "cell_type": "code",
   "execution_count": 86,
   "id": "adc31a9c",
   "metadata": {},
   "outputs": [
    {
     "data": {
      "text/plain": [
       "pid              59\n",
       "playlist_name    58\n",
       "pos              75\n",
       "artist_name       4\n",
       "track_name       50\n",
       "duration_ms      50\n",
       "album_name       31\n",
       "dtype: int64"
      ]
     },
     "execution_count": 86,
     "metadata": {},
     "output_type": "execute_result"
    }
   ],
   "source": [
    "Artists = [\"Paul McCartney\", \"John Lennon\" , \"Ringo Starr\", \"George Harrison\" ]\n",
    "\n",
    "Beatles = spotify[\"artist_name\"].isin(Artists)\n",
    "\n",
    "Individual_Beatles = spotify[Beatles]\n",
    "\n",
    "Individual_Beatles.nunique()\n",
    "\n",
    "\n",
    "\n",
    "\n"
   ]
  },
  {
   "cell_type": "markdown",
   "id": "739c2612",
   "metadata": {},
   "source": [
    "## Data manipulation and Approach\n",
    "\n",
    "My technique involves filtering the data for each Beatle to then find statistics on, amount of minutes each is listened to, and their individual representation within the dataset. The metric I will be using to determine popularity is amount of playlists they appear in and how many songs they have in the entire dataset.  \n"
   ]
  },
  {
   "cell_type": "markdown",
   "id": "b05fe17f",
   "metadata": {},
   "source": [
    "### Paul \n",
    "\n",
    "Paul was the bassist for the Beatles and one of the main singers and songwriters. He is known for his signature lefty bass playing. "
   ]
  },
  {
   "cell_type": "code",
   "execution_count": 105,
   "id": "3712da2b",
   "metadata": {},
   "outputs": [
    {
     "data": {
      "text/plain": [
       "pid              44\n",
       "playlist_name    44\n",
       "pos              44\n",
       "track_name       44\n",
       "duration_ms      44\n",
       "album_name       44\n",
       "dtype: int64"
      ]
     },
     "execution_count": 105,
     "metadata": {},
     "output_type": "execute_result"
    }
   ],
   "source": [
    "Paul = (\n",
    "    Individual_Beatles\n",
    "        .set_index(\"artist_name\")\n",
    "        .loc[\"Paul McCartney\"]\n",
    ")\n",
    "\n",
    "Paul.count()"
   ]
  },
  {
   "cell_type": "code",
   "execution_count": 101,
   "id": "e9bdea03",
   "metadata": {},
   "outputs": [
    {
     "data": {
      "text/plain": [
       "30"
      ]
     },
     "execution_count": 101,
     "metadata": {},
     "output_type": "execute_result"
    }
   ],
   "source": [
    "Paul[\"pid\"].nunique()"
   ]
  },
  {
   "cell_type": "markdown",
   "id": "0918d00b",
   "metadata": {},
   "source": [
    "### George\n",
    "George was the lead Guitarist of the group and was known for his simple yet elegant solos and fills. "
   ]
  },
  {
   "cell_type": "code",
   "execution_count": 102,
   "id": "dd4901f4",
   "metadata": {},
   "outputs": [
    {
     "data": {
      "text/plain": [
       "pid              27\n",
       "playlist_name    27\n",
       "pos              27\n",
       "track_name       27\n",
       "duration_ms      27\n",
       "album_name       27\n",
       "dtype: int64"
      ]
     },
     "execution_count": 102,
     "metadata": {},
     "output_type": "execute_result"
    }
   ],
   "source": [
    "George = (\n",
    "    Individual_Beatles\n",
    "        .set_index(\"artist_name\")\n",
    "        .loc[\"George Harrison\"]\n",
    ")\n",
    "\n",
    "George.count()"
   ]
  },
  {
   "cell_type": "code",
   "execution_count": 104,
   "id": "f27895eb",
   "metadata": {},
   "outputs": [
    {
     "data": {
      "text/plain": [
       "18"
      ]
     },
     "execution_count": 104,
     "metadata": {},
     "output_type": "execute_result"
    }
   ],
   "source": [
    "George[\"pid\"].nunique()"
   ]
  },
  {
   "cell_type": "markdown",
   "id": "54d86d9b",
   "metadata": {},
   "source": [
    "### Ringo \n",
    "\n",
    "Ringo was the groups drummer. He was known for his quirky song writing and goofy personality. "
   ]
  },
  {
   "cell_type": "code",
   "execution_count": 109,
   "id": "5b1c7a5c",
   "metadata": {},
   "outputs": [
    {
     "data": {
      "text/plain": [
       "pid              5\n",
       "playlist_name    5\n",
       "pos              5\n",
       "track_name       5\n",
       "duration_ms      5\n",
       "album_name       5\n",
       "dtype: int64"
      ]
     },
     "execution_count": 109,
     "metadata": {},
     "output_type": "execute_result"
    }
   ],
   "source": [
    "Ringo = (\n",
    "    Individual_Beatles\n",
    "        .set_index(\"artist_name\")\n",
    "        .loc[\"Ringo Starr\"]\n",
    ")\n",
    "\n",
    "Ringo.count()"
   ]
  },
  {
   "cell_type": "code",
   "execution_count": 107,
   "id": "cc6c1024",
   "metadata": {},
   "outputs": [
    {
     "data": {
      "text/plain": [
       "2"
      ]
     },
     "execution_count": 107,
     "metadata": {},
     "output_type": "execute_result"
    }
   ],
   "source": [
    "Ringo[\"pid\"].nunique()"
   ]
  },
  {
   "cell_type": "markdown",
   "id": "3a899776",
   "metadata": {},
   "source": [
    "### John\n",
    "\n",
    "John was the rythm guitarist and wrote many of the groups most popular songs. "
   ]
  },
  {
   "cell_type": "code",
   "execution_count": 110,
   "id": "0733f3f3",
   "metadata": {},
   "outputs": [
    {
     "data": {
      "text/plain": [
       "pid              32\n",
       "playlist_name    32\n",
       "pos              32\n",
       "track_name       32\n",
       "duration_ms      32\n",
       "album_name       32\n",
       "dtype: int64"
      ]
     },
     "execution_count": 110,
     "metadata": {},
     "output_type": "execute_result"
    }
   ],
   "source": [
    "John = (\n",
    "    Individual_Beatles\n",
    "        .set_index(\"artist_name\")\n",
    "        .loc[\"John Lennon\"]\n",
    ")\n",
    "\n",
    "John.count()"
   ]
  },
  {
   "cell_type": "code",
   "execution_count": 111,
   "id": "3c748e5d",
   "metadata": {},
   "outputs": [
    {
     "data": {
      "text/plain": [
       "26"
      ]
     },
     "execution_count": 111,
     "metadata": {},
     "output_type": "execute_result"
    }
   ],
   "source": [
    "John[\"pid\"].nunique()"
   ]
  },
  {
   "cell_type": "markdown",
   "id": "d1751b09",
   "metadata": {},
   "source": [
    "## Conclusion\n",
    "\n",
    "Paul has the highest popularity with 44 songs on 30 datasets. Ringo has the lowest with 2 songs spread over 5 playlists. John was the second most popular with 32 songs in 26 playlists and George was the third with 27 songs over 18 playlists. These results can be attributed to a number of factors. For exampl, Paul is still alive releasing new music while George and John passed away while they were still making new albums. Another reason is due to overall style. George, John, and Ringo produced eclectic music that appealed to more niche groups of people while Paul released more widely accepted music. "
   ]
  }
 ],
 "metadata": {
  "kernelspec": {
   "display_name": "Python 3 (ipykernel)",
   "language": "python",
   "name": "python3"
  },
  "language_info": {
   "codemirror_mode": {
    "name": "ipython",
    "version": 3
   },
   "file_extension": ".py",
   "mimetype": "text/x-python",
   "name": "python",
   "nbconvert_exporter": "python",
   "pygments_lexer": "ipython3",
   "version": "3.11.5"
  }
 },
 "nbformat": 4,
 "nbformat_minor": 5
}
