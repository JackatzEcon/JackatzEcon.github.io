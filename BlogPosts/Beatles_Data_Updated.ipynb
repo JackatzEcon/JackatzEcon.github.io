{
  "cells": [
    {
      "cell_type": "markdown",
      "id": "785310bd",
      "metadata": {
        "id": "785310bd"
      },
      "source": [
        "---\n",
        "title: \"The Fab Four: An Exploration of the Beatles Solo Careers Through Data\"\n",
        "author: \"Jack Katz\"\n",
        "Date: \"2024-04-06\"\n",
        "image: \"beatles70.png\"\n",
        "---\n"
      ]
    },
    {
      "cell_type": "code",
      "execution_count": null,
      "id": "b4e45baf",
      "metadata": {
        "id": "b4e45baf"
      },
      "outputs": [],
      "source": [
        "import pandas as pd\n",
        "spotify = pd.read_csv('https://bcdanl.github.io/data/spotify_all.csv')"
      ]
    },
    {
      "cell_type": "markdown",
      "id": "79f80d74",
      "metadata": {
        "id": "79f80d74"
      },
      "source": [
        "# The Fab Four: An Exploration of the Beatles Solo Careers Through Data\n",
        "\n",
        "The Beatles were a revolutionary Rock n' Roll group that were active throughout the 1960's and 70's. In their early years they brought together blues and rock n' roll style with the modern form of the four man rock band. Over the groups career they each developed their own styles and sounds as musicians which then influenced there individual solo careers. Although each of them are talented in their own way they all received varying levels of commercial and critical success. This data analysis takes a look at how each members popularity stands today among modern listeners.  \n"
      ]
    },
    {
      "cell_type": "markdown",
      "id": "d2ca2816",
      "metadata": {
        "id": "d2ca2816"
      },
      "source": [
        "## The Data\n",
        "\n",
        "The code below uses filtering methods and the isin function to narrow down the data set to just the individual music of each artist"
      ]
    },
    {
      "cell_type": "code",
      "execution_count": null,
      "id": "adc31a9c",
      "metadata": {
        "id": "adc31a9c",
        "outputId": "120aadfe-6901-4d11-a9c6-4bf3580a8443"
      },
      "outputs": [
        {
          "data": {
            "text/plain": [
              "pid              59\n",
              "playlist_name    58\n",
              "pos              75\n",
              "artist_name       4\n",
              "track_name       50\n",
              "duration_ms      50\n",
              "album_name       31\n",
              "dtype: int64"
            ]
          },
          "execution_count": 86,
          "metadata": {},
          "output_type": "execute_result"
        }
      ],
      "source": [
        "Artists = [\"Paul McCartney\", \"John Lennon\" , \"Ringo Starr\", \"George Harrison\" ]\n",
        "\n",
        "Beatles = spotify[\"artist_name\"].isin(Artists)\n",
        "\n",
        "Individual_Beatles = spotify[Beatles]\n",
        "\n",
        "Individual_Beatles.nunique()\n",
        "\n",
        "\n",
        "\n",
        "\n"
      ]
    },
    {
      "cell_type": "markdown",
      "id": "739c2612",
      "metadata": {
        "id": "739c2612"
      },
      "source": [
        "## Data manipulation and Approach\n",
        "\n",
        "My technique involves filtering the data for each Beatle to then find statistics on, amount of minutes each is listened to, and their individual representation within the dataset. The metric I will be using to determine popularity is amount of playlists they appear in and how many songs they have in the entire dataset.  \n"
      ]
    },
    {
      "cell_type": "markdown",
      "id": "b05fe17f",
      "metadata": {
        "id": "b05fe17f"
      },
      "source": [
        "### Paul\n",
        "\n",
        "Paul was the bassist for the Beatles and one of the main singers and songwriters. He is known for his signature lefty bass playing."
      ]
    },
    {
      "cell_type": "code",
      "execution_count": null,
      "id": "3712da2b",
      "metadata": {
        "id": "3712da2b",
        "outputId": "bd66da28-6264-4cb7-eb6c-72a7b7a1e885"
      },
      "outputs": [
        {
          "data": {
            "text/plain": [
              "pid              44\n",
              "playlist_name    44\n",
              "pos              44\n",
              "track_name       44\n",
              "duration_ms      44\n",
              "album_name       44\n",
              "dtype: int64"
            ]
          },
          "execution_count": 105,
          "metadata": {},
          "output_type": "execute_result"
        }
      ],
      "source": [
        "Paul = (\n",
        "    Individual_Beatles\n",
        "        .set_index(\"artist_name\")\n",
        "        .loc[\"Paul McCartney\"]\n",
        ")\n",
        "\n",
        "Paul.count()"
      ]
    },
    {
      "cell_type": "code",
      "execution_count": null,
      "id": "e9bdea03",
      "metadata": {
        "id": "e9bdea03",
        "outputId": "2561da3e-13d8-4f14-c1d0-6636907e5d77"
      },
      "outputs": [
        {
          "data": {
            "text/plain": [
              "30"
            ]
          },
          "execution_count": 101,
          "metadata": {},
          "output_type": "execute_result"
        }
      ],
      "source": [
        "Paul[\"pid\"].nunique()"
      ]
    },
    {
      "cell_type": "markdown",
      "id": "0918d00b",
      "metadata": {
        "id": "0918d00b"
      },
      "source": [
        "### George\n",
        "George was the lead Guitarist of the group and was known for his simple yet elegant solos and fills."
      ]
    },
    {
      "cell_type": "code",
      "execution_count": null,
      "id": "dd4901f4",
      "metadata": {
        "id": "dd4901f4",
        "outputId": "c7249152-b15f-437d-c85f-610d43496aa6"
      },
      "outputs": [
        {
          "data": {
            "text/plain": [
              "pid              27\n",
              "playlist_name    27\n",
              "pos              27\n",
              "track_name       27\n",
              "duration_ms      27\n",
              "album_name       27\n",
              "dtype: int64"
            ]
          },
          "execution_count": 102,
          "metadata": {},
          "output_type": "execute_result"
        }
      ],
      "source": [
        "George = (\n",
        "    Individual_Beatles\n",
        "        .set_index(\"artist_name\")\n",
        "        .loc[\"George Harrison\"]\n",
        ")\n",
        "\n",
        "George.count()"
      ]
    },
    {
      "cell_type": "code",
      "execution_count": null,
      "id": "f27895eb",
      "metadata": {
        "id": "f27895eb",
        "outputId": "6039db7e-0512-4581-a513-788be0ad0cb8"
      },
      "outputs": [
        {
          "data": {
            "text/plain": [
              "18"
            ]
          },
          "execution_count": 104,
          "metadata": {},
          "output_type": "execute_result"
        }
      ],
      "source": [
        "George[\"pid\"].nunique()"
      ]
    },
    {
      "cell_type": "markdown",
      "id": "54d86d9b",
      "metadata": {
        "id": "54d86d9b"
      },
      "source": [
        "### Ringo\n",
        "\n",
        "Ringo was the groups drummer. He was known for his quirky song writing and goofy personality."
      ]
    },
    {
      "cell_type": "code",
      "execution_count": null,
      "id": "5b1c7a5c",
      "metadata": {
        "id": "5b1c7a5c",
        "outputId": "eebb8965-6a01-489f-e2f6-c94ee22f6a50"
      },
      "outputs": [
        {
          "data": {
            "text/plain": [
              "pid              5\n",
              "playlist_name    5\n",
              "pos              5\n",
              "track_name       5\n",
              "duration_ms      5\n",
              "album_name       5\n",
              "dtype: int64"
            ]
          },
          "execution_count": 109,
          "metadata": {},
          "output_type": "execute_result"
        }
      ],
      "source": [
        "Ringo = (\n",
        "    Individual_Beatles\n",
        "        .set_index(\"artist_name\")\n",
        "        .loc[\"Ringo Starr\"]\n",
        ")\n",
        "\n",
        "Ringo.count()"
      ]
    },
    {
      "cell_type": "code",
      "execution_count": null,
      "id": "cc6c1024",
      "metadata": {
        "id": "cc6c1024",
        "outputId": "fd78e631-44af-4c90-e49f-922e17562845"
      },
      "outputs": [
        {
          "data": {
            "text/plain": [
              "2"
            ]
          },
          "execution_count": 107,
          "metadata": {},
          "output_type": "execute_result"
        }
      ],
      "source": [
        "Ringo[\"pid\"].nunique()"
      ]
    },
    {
      "cell_type": "markdown",
      "id": "3a899776",
      "metadata": {
        "id": "3a899776"
      },
      "source": [
        "### John\n",
        "\n",
        "John was the rythm guitarist and wrote many of the groups most popular songs."
      ]
    },
    {
      "cell_type": "code",
      "execution_count": null,
      "id": "0733f3f3",
      "metadata": {
        "id": "0733f3f3",
        "outputId": "fd5266ba-81cd-4e04-9191-b24f0574ea3f"
      },
      "outputs": [
        {
          "data": {
            "text/plain": [
              "pid              32\n",
              "playlist_name    32\n",
              "pos              32\n",
              "track_name       32\n",
              "duration_ms      32\n",
              "album_name       32\n",
              "dtype: int64"
            ]
          },
          "execution_count": 110,
          "metadata": {},
          "output_type": "execute_result"
        }
      ],
      "source": [
        "John = (\n",
        "    Individual_Beatles\n",
        "        .set_index(\"artist_name\")\n",
        "        .loc[\"John Lennon\"]\n",
        ")\n",
        "\n",
        "John.count()"
      ]
    },
    {
      "cell_type": "code",
      "execution_count": null,
      "id": "3c748e5d",
      "metadata": {
        "id": "3c748e5d",
        "outputId": "ca5ea6ee-e96a-44af-9acf-d8b919e20c93"
      },
      "outputs": [
        {
          "data": {
            "text/plain": [
              "26"
            ]
          },
          "execution_count": 111,
          "metadata": {},
          "output_type": "execute_result"
        }
      ],
      "source": [
        "John[\"pid\"].nunique()"
      ]
    },
    {
      "cell_type": "markdown",
      "id": "d1751b09",
      "metadata": {
        "id": "d1751b09"
      },
      "source": [
        "## Conclusion\n",
        "\n",
        "Paul has the highest popularity with 44 songs on 30 datasets. Ringo has the lowest with 2 songs spread over 5 playlists. John was the second most popular with 32 songs in 26 playlists and George was the third with 27 songs over 18 playlists. These results can be attributed to a number of factors. For exampl, Paul is still alive releasing new music while George and John passed away while they were still making new albums. Another reason is due to overall style. George, John, and Ringo produced eclectic music that appealed to more niche groups of people while Paul released more widely accepted music."
      ]
    }
  ],
  "metadata": {
    "kernelspec": {
      "display_name": "Python 3 (ipykernel)",
      "language": "python",
      "name": "python3"
    },
    "language_info": {
      "codemirror_mode": {
        "name": "ipython",
        "version": 3
      },
      "file_extension": ".py",
      "mimetype": "text/x-python",
      "name": "python",
      "nbconvert_exporter": "python",
      "pygments_lexer": "ipython3",
      "version": "3.11.5"
    },
    "colab": {
      "provenance": []
    }
  },
  "nbformat": 4,
  "nbformat_minor": 5
}